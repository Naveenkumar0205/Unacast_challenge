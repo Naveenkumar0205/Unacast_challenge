{
 "cells": [
  {
   "cell_type": "markdown",
   "metadata": {},
   "source": [
    "## File info: \n",
    "- This file contains exploratory data analysis performed on all the csv file present in folder `daily_data`"
   ]
  },
  {
   "cell_type": "markdown",
   "metadata": {},
   "source": [
    "### Import statements"
   ]
  },
  {
   "cell_type": "code",
   "execution_count": 13,
   "metadata": {},
   "outputs": [],
   "source": [
    "from statsmodels.graphics.tsaplots import plot_acf, plot_pacf\n",
    "import pandas as pd\n",
    "import numpy as np\n",
    "import matplotlib.pyplot as plt\n",
    "import seaborn as sns\n",
    "import plotly.express as px\n",
    "import math\n",
    "import os\n",
    "from pathlib import Path\n"
   ]
  },
  {
   "cell_type": "markdown",
   "metadata": {},
   "source": [
    "### Read data"
   ]
  },
  {
   "cell_type": "code",
   "execution_count": 14,
   "metadata": {},
   "outputs": [
    {
     "name": "stdout",
     "output_type": "stream",
     "text": [
      "dataset shape : (40061, 5)\n"
     ]
    },
    {
     "data": {
      "text/html": [
       "<div>\n",
       "<style scoped>\n",
       "    .dataframe tbody tr th:only-of-type {\n",
       "        vertical-align: middle;\n",
       "    }\n",
       "\n",
       "    .dataframe tbody tr th {\n",
       "        vertical-align: top;\n",
       "    }\n",
       "\n",
       "    .dataframe thead th {\n",
       "        text-align: right;\n",
       "    }\n",
       "</style>\n",
       "<table border=\"1\" class=\"dataframe\">\n",
       "  <thead>\n",
       "    <tr style=\"text-align: right;\">\n",
       "      <th></th>\n",
       "      <th>venue_id</th>\n",
       "      <th>visitor_id</th>\n",
       "      <th>visit_start_time</th>\n",
       "      <th>visit_end_time</th>\n",
       "      <th>venue_type</th>\n",
       "    </tr>\n",
       "  </thead>\n",
       "  <tbody>\n",
       "    <tr>\n",
       "      <th>0</th>\n",
       "      <td>UN004</td>\n",
       "      <td>V2940</td>\n",
       "      <td>2024-10-28 06:00:00.000000</td>\n",
       "      <td>2024-10-28 08:23:29.648705</td>\n",
       "      <td>university</td>\n",
       "    </tr>\n",
       "    <tr>\n",
       "      <th>1</th>\n",
       "      <td>UN003</td>\n",
       "      <td>V1337</td>\n",
       "      <td>2024-10-28 06:01:00.000000</td>\n",
       "      <td>2024-10-28 07:31:23.598391</td>\n",
       "      <td>university</td>\n",
       "    </tr>\n",
       "    <tr>\n",
       "      <th>2</th>\n",
       "      <td>UN000</td>\n",
       "      <td>V1933</td>\n",
       "      <td>2024-10-28 06:02:00.000000</td>\n",
       "      <td>2024-10-28 10:18:23.804368</td>\n",
       "      <td>university</td>\n",
       "    </tr>\n",
       "    <tr>\n",
       "      <th>3</th>\n",
       "      <td>UN003</td>\n",
       "      <td>V1543</td>\n",
       "      <td>2024-10-28 06:08:00.000000</td>\n",
       "      <td>2024-10-28 07:19:24.080107</td>\n",
       "      <td>university</td>\n",
       "    </tr>\n",
       "    <tr>\n",
       "      <th>4</th>\n",
       "      <td>UN002</td>\n",
       "      <td>V1389</td>\n",
       "      <td>2024-10-28 06:08:00.000000</td>\n",
       "      <td>2024-10-28 08:08:23.312124</td>\n",
       "      <td>university</td>\n",
       "    </tr>\n",
       "  </tbody>\n",
       "</table>\n",
       "</div>"
      ],
      "text/plain": [
       "  venue_id visitor_id            visit_start_time              visit_end_time  \\\n",
       "0    UN004      V2940  2024-10-28 06:00:00.000000  2024-10-28 08:23:29.648705   \n",
       "1    UN003      V1337  2024-10-28 06:01:00.000000  2024-10-28 07:31:23.598391   \n",
       "2    UN000      V1933  2024-10-28 06:02:00.000000  2024-10-28 10:18:23.804368   \n",
       "3    UN003      V1543  2024-10-28 06:08:00.000000  2024-10-28 07:19:24.080107   \n",
       "4    UN002      V1389  2024-10-28 06:08:00.000000  2024-10-28 08:08:23.312124   \n",
       "\n",
       "   venue_type  \n",
       "0  university  \n",
       "1  university  \n",
       "2  university  \n",
       "3  university  \n",
       "4  university  "
      ]
     },
     "execution_count": 14,
     "metadata": {},
     "output_type": "execute_result"
    }
   ],
   "source": [
    "folder_path = Path.cwd().joinpath(\"daily_data\")\n",
    "csv_files = [file for file in os.listdir(folder_path) if file.endswith('.csv')]\n",
    "dataframes = []\n",
    "\n",
    "for csv_file in csv_files:\n",
    "    file_path = os.path.join(folder_path, csv_file)\n",
    "    df = pd.read_csv(file_path)\n",
    "    dataframes.append(df)\n",
    "\n",
    "combined_data = pd.concat(dataframes, ignore_index=True)\n",
    "print(f\"dataset shape : {combined_data.shape}\")\n",
    "combined_data.head(5)"
   ]
  },
  {
   "cell_type": "markdown",
   "metadata": {},
   "source": [
    "### Insights"
   ]
  },
  {
   "cell_type": "code",
   "execution_count": 15,
   "metadata": {},
   "outputs": [
    {
     "data": {
      "text/plain": [
       "venue_id              0\n",
       "visitor_id            0\n",
       "visit_start_time      0\n",
       "visit_end_time      396\n",
       "venue_type           92\n",
       "dtype: int64"
      ]
     },
     "execution_count": 15,
     "metadata": {},
     "output_type": "execute_result"
    }
   ],
   "source": [
    "# Null values\n",
    "combined_data.isna().sum()"
   ]
  },
  {
   "cell_type": "code",
   "execution_count": 16,
   "metadata": {},
   "outputs": [],
   "source": [
    "# Drop duplicate values\n",
    "combined_data.drop_duplicates(keep='first', inplace=True)"
   ]
  },
  {
   "cell_type": "code",
   "execution_count": 17,
   "metadata": {},
   "outputs": [
    {
     "data": {
      "text/plain": [
       "venue_type\n",
       "university      29286\n",
       "coffee_place     8659\n",
       "cinema           1789\n",
       "unknown            38\n",
       "Name: count, dtype: int64"
      ]
     },
     "execution_count": 17,
     "metadata": {},
     "output_type": "execute_result"
    }
   ],
   "source": [
    "# observations for each venue type\n",
    "combined_data['venue_type'].value_counts()"
   ]
  },
  {
   "cell_type": "code",
   "execution_count": 18,
   "metadata": {},
   "outputs": [
    {
     "data": {
      "text/plain": [
       "array(['UN004', 'UN003', 'UN000', 'UN002', 'UN001', 'CO000', 'CO002',\n",
       "       'CO003', 'CO001', 'CO004', 'CI001', 'CI004', 'CI002', 'CI003',\n",
       "       'CI000'], dtype=object)"
      ]
     },
     "execution_count": 18,
     "metadata": {},
     "output_type": "execute_result"
    }
   ],
   "source": [
    "# Unique venue_ids\n",
    "combined_data['venue_id'].unique()"
   ]
  },
  {
   "cell_type": "markdown",
   "metadata": {},
   "source": [
    "### Handling columns 'visit_start_time' and 'visit_end_time'"
   ]
  },
  {
   "cell_type": "code",
   "execution_count": 19,
   "metadata": {},
   "outputs": [
    {
     "data": {
      "image/png": "[encoded data removed]",
      "text/plain": [
       "<Figure size 640x480 with 1 Axes>"
      ]
     },
     "metadata": {},
     "output_type": "display_data"
    },
    {
     "name": "stdout",
     "output_type": "stream",
     "text": [
      "Median time spent by the visitor at venue: 81.0\n"
     ]
    }
   ],
   "source": [
    "combined_data['visit_end_time'] = pd.to_datetime(combined_data['visit_end_time'])\n",
    "combined_data['visit_start_time'] = pd.to_datetime(combined_data['visit_start_time'])\n",
    "\n",
    "combined_data['time_spent_minutes'] = abs(((combined_data['visit_end_time'] - combined_data['visit_start_time']).dt.total_seconds() / 60)).round()\n",
    "\n",
    "sns.histplot(combined_data['time_spent_minutes'])\n",
    "plt.xlabel('Time spent in minutes at different venues')\n",
    "plt.ylabel('Visitors count')\n",
    "plt.title('Histogram plot to visualize the time spent by visitors')\n",
    "plt.show()\n",
    "print(f\"Median time spent by the visitor at venue: {combined_data['time_spent_minutes'].median()}\")"
   ]
  },
  {
   "cell_type": "markdown",
   "metadata": {},
   "source": [
    "### combine all files in daily_data"
   ]
  },
  {
   "cell_type": "code",
   "execution_count": null,
   "metadata": {},
   "outputs": [],
   "source": [
    "def swap_times(row):\n",
    "    if row['visit_start_time'] > row['visit_end_time']:\n",
    "        row['visit_start_time'], row['visit_end_time'] = row['visit_end_time'], row['visit_start_time']\n",
    "    return row\n",
    "\n",
    "# Define the mapping of venue_id to venue_type\n",
    "venue_mapping = {\n",
    "    'UN': 'university',\n",
    "    'CO': 'coffee place',\n",
    "    'CI': 'cinema'\n",
    "}\n",
    "\n",
    "# Path to your folder containing CSV files\n",
    "folder_path = Path.cwd().joinpath(\"daily_data\")\n",
    "final_result = pd.DataFrame()\n",
    "\n",
    "for file in os.listdir(folder_path):\n",
    "    if file.endswith('.csv'):\n",
    "        print(file)\n",
    "        file_name_date_value = pd.to_datetime(file.split('.')[0], format='%Y%m%d').date()\n",
    "        file_path = os.path.join(folder_path, file)\n",
    "        venue_data = pd.read_csv(file_path)\n",
    "        venue_data.drop_duplicates(keep='first', inplace=True)\n",
    "\n",
    "        venue_data['visit_end_time'] = pd.to_datetime(venue_data['visit_end_time'])\n",
    "        venue_data['visit_start_time'] = pd.to_datetime(venue_data['visit_start_time'])\n",
    "        venue_data['date'] = venue_data['visit_start_time'].dt.date\n",
    "        venue_data['visit_end_time'] = venue_data['visit_end_time'].fillna(venue_data['visit_start_time'] + pd.Timedelta(minutes=81))\n",
    "\n",
    "        if len(venue_data[venue_data['date'] == file_name_date_value]) == len(venue_data):\n",
    "            print('All dates are equal')\n",
    "        else:\n",
    "            print(f'Discarded {len(venue_data) - len(venue_data[venue_data.date == file_name_date_value])} rows')\n",
    "\n",
    "        venue_data[['visit_start_time', 'visit_end_time']] = venue_data.apply(swap_times, axis=1)\n",
    "        venue_data['venue_type'] = venue_data['venue_type'].replace('unknown', np.nan)\n",
    "        venue_data['venue_type'] = venue_data['venue_type'].fillna(venue_data['venue_id'].str[:2].map(venue_mapping))\n",
    "\n",
    "        result = venue_data.groupby('venue_id').agg({\n",
    "            'date': 'first',\n",
    "            'visitor_id': ['nunique', 'count']\n",
    "        }).reset_index()\n",
    "        result.columns = ['venue_id', 'date', 'visitor_count_unique', 'visitor_count_total']\n",
    "        result = result[['date', 'venue_id', 'visitor_count_unique', 'visitor_count_total']]\n",
    "        final_result = pd.concat([final_result, result])\n",
    "\n",
    "final_result.to_csv('pre_processed_venue_data.csv', header=True, index=False)"
   ]
  },
  {
   "cell_type": "markdown",
   "metadata": {},
   "source": [
    "### line plots for each venue"
   ]
  },
  {
   "cell_type": "code",
   "execution_count": 20,
   "metadata": {},
   "outputs": [
    {
     "data": {
      "application/vnd.plotly.v1+json": {
       "config": {
        "plotlyServerURL": "https://plot.ly"
       },
       "data": [
        {
         "hovertemplate": "category=cinema<br>Date=%{x}<br>Total visitors=%{y}<extra></extra>",
         "legendgroup": "cinema",
         "line": {
          "color": "#636efa",
          "dash": "solid"
         },
         "marker": {
          "symbol": "circle"
         },
         "mode": "lines",
         "name": "cinema",
         "orientation": "v",
         "showlegend": true,
         "type": "scatter",
         "x": [
          "2024-10-28",
          "2024-10-28",
          "2024-10-28",
          "2024-10-28",
          "2024-10-28",
          "2024-10-29",
          "2024-10-29",
          "2024-10-29",
          "2024-10-29",
          "2024-10-29",
          "2024-10-30",
          "2024-10-30",
          "2024-10-30",
          "2024-10-30",
          "2024-10-30",
          "2024-10-31",
          "2024-10-31",
          "2024-10-31",
          "2024-10-31",
          "2024-10-31",
          "2024-11-01",
          "2024-11-01",
          "2024-11-01",
          "2024-11-01",
          "2024-11-01",
          "2024-11-02",
          "2024-11-02",
          "2024-11-02",
          "2024-11-02",
          "2024-11-02",
          "2024-11-03",
          "2024-11-03",
          "2024-11-03",
          "2024-11-03",
          "2024-11-03",
          "2024-11-04",
          "2024-11-04",
          "2024-11-04",
          "2024-11-04",
          "2024-11-04",
          "2024-11-05",
          "2024-11-05",
          "2024-11-05",
          "2024-11-05",
          "2024-11-05",
          "2024-11-06",
          "2024-11-06",
          "2024-11-06",
          "2024-11-06",
          "2024-11-06",
          "2024-11-07",
          "2024-11-07",
          "2024-11-07",
          "2024-11-07",
          "2024-11-07",
          "2024-11-08",
          "2024-11-08",
          "2024-11-08",
          "2024-11-08",
          "2024-11-08",
          "2024-11-09",
          "2024-11-09",
          "2024-11-09",
          "2024-11-09",
          "2024-11-09",
          "2024-11-10",
          "2024-11-10",
          "2024-11-10",
          "2024-11-10",
          "2024-11-10",
          "2024-11-11",
          "2024-11-11",
          "2024-11-11",
          "2024-11-11",
          "2024-11-11",
          "2024-11-12",
          "2024-11-12",
          "2024-11-12",
          "2024-11-12",
          "2024-11-12",
          "2024-11-13",
          "2024-11-13",
          "2024-11-13",
          "2024-11-13",
          "2024-11-13",
          "2024-11-14",
          "2024-11-14",
          "2024-11-14",
          "2024-11-14",
          "2024-11-14",
          "2024-11-15",
          "2024-11-15",
          "2024-11-15",
          "2024-11-15",
          "2024-11-15",
          "2024-11-16",
          "2024-11-16",
          "2024-11-16",
          "2024-11-16",
          "2024-11-16",
          "2024-11-17",
          "2024-11-17",
          "2024-11-17",
          "2024-11-17",
          "2024-11-17"
         ],
         "xaxis": "x",
         "y": [
          16,
          21,
          12,
          14,
          8,
          9,
          14,
          17,
          9,
          20,
          15,
          16,
          7,
          7,
          12,
          15,
          16,
          10,
          13,
          12,
          11,
          16,
          18,
          12,
          27,
          23,
          18,
          21,
          30,
          21,
          25,
          26,
          18,
          15,
          23,
          14,
          16,
          12,
          19,
          20,
          15,
          15,
          16,
          10,
          12,
          8,
          16,
          12,
          9,
          12,
          21,
          14,
          11,
          18,
          9,
          13,
          20,
          15,
          15,
          14,
          26,
          16,
          27,
          24,
          34,
          37,
          26,
          26,
          23,
          16,
          11,
          11,
          14,
          11,
          16,
          12,
          13,
          9,
          13,
          11,
          8,
          15,
          14,
          11,
          17,
          16,
          11,
          17,
          20,
          12,
          20,
          20,
          20,
          13,
          16,
          29,
          26,
          28,
          28,
          28,
          24,
          20,
          23,
          30,
          28
         ],
         "yaxis": "y"
        },
        {
         "hovertemplate": "category=coffee place<br>Date=%{x}<br>Total visitors=%{y}<extra></extra>",
         "legendgroup": "coffee place",
         "line": {
          "color": "#EF553B",
          "dash": "solid"
         },
         "marker": {
          "symbol": "circle"
         },
         "mode": "lines",
         "name": "coffee place",
         "orientation": "v",
         "showlegend": true,
         "type": "scatter",
         "x": [
          "2024-10-28",
          "2024-10-28",
          "2024-10-28",
          "2024-10-28",
          "2024-10-28",
          "2024-10-29",
          "2024-10-29",
          "2024-10-29",
          "2024-10-29",
          "2024-10-29",
          "2024-10-30",
          "2024-10-30",
          "2024-10-30",
          "2024-10-30",
          "2024-10-30",
          "2024-10-31",
          "2024-10-31",
          "2024-10-31",
          "2024-10-31",
          "2024-10-31",
          "2024-11-01",
          "2024-11-01",
          "2024-11-01",
          "2024-11-01",
          "2024-11-01",
          "2024-11-02",
          "2024-11-02",
          "2024-11-02",
          "2024-11-02",
          "2024-11-02",
          "2024-11-03",
          "2024-11-03",
          "2024-11-03",
          "2024-11-03",
          "2024-11-03",
          "2024-11-04",
          "2024-11-04",
          "2024-11-04",
          "2024-11-04",
          "2024-11-04",
          "2024-11-05",
          "2024-11-05",
          "2024-11-05",
          "2024-11-05",
          "2024-11-05",
          "2024-11-06",
          "2024-11-06",
          "2024-11-06",
          "2024-11-06",
          "2024-11-06",
          "2024-11-07",
          "2024-11-07",
          "2024-11-07",
          "2024-11-07",
          "2024-11-07",
          "2024-11-08",
          "2024-11-08",
          "2024-11-08",
          "2024-11-08",
          "2024-11-08",
          "2024-11-09",
          "2024-11-09",
          "2024-11-09",
          "2024-11-09",
          "2024-11-09",
          "2024-11-10",
          "2024-11-10",
          "2024-11-10",
          "2024-11-10",
          "2024-11-10",
          "2024-11-11",
          "2024-11-11",
          "2024-11-11",
          "2024-11-11",
          "2024-11-11",
          "2024-11-12",
          "2024-11-12",
          "2024-11-12",
          "2024-11-12",
          "2024-11-12",
          "2024-11-13",
          "2024-11-13",
          "2024-11-13",
          "2024-11-13",
          "2024-11-14",
          "2024-11-14",
          "2024-11-14",
          "2024-11-14",
          "2024-11-14",
          "2024-11-15",
          "2024-11-15",
          "2024-11-15",
          "2024-11-15",
          "2024-11-15",
          "2024-11-16",
          "2024-11-16",
          "2024-11-16",
          "2024-11-16",
          "2024-11-16",
          "2024-11-17",
          "2024-11-17",
          "2024-11-17",
          "2024-11-17",
          "2024-11-17"
         ],
         "xaxis": "x",
         "y": [
          58,
          70,
          66,
          80,
          69,
          109,
          104,
          97,
          84,
          98,
          88,
          103,
          106,
          85,
          94,
          91,
          75,
          98,
          90,
          87,
          98,
          100,
          94,
          86,
          91,
          87,
          67,
          77,
          92,
          74,
          43,
          49,
          35,
          50,
          56,
          68,
          77,
          80,
          71,
          77,
          112,
          104,
          104,
          102,
          84,
          97,
          88,
          112,
          112,
          84,
          103,
          99,
          83,
          101,
          93,
          103,
          85,
          93,
          105,
          116,
          72,
          87,
          86,
          83,
          86,
          42,
          40,
          42,
          39,
          37,
          84,
          88,
          68,
          86,
          83,
          114,
          92,
          100,
          120,
          104,
          93,
          87,
          96,
          103,
          93,
          80,
          95,
          89,
          91,
          90,
          105,
          101,
          91,
          99,
          96,
          88,
          86,
          57,
          76,
          43,
          31,
          53,
          35,
          54
         ],
         "yaxis": "y"
        },
        {
         "hovertemplate": "category=university<br>Date=%{x}<br>Total visitors=%{y}<extra></extra>",
         "legendgroup": "university",
         "line": {
          "color": "#00cc96",
          "dash": "solid"
         },
         "marker": {
          "symbol": "circle"
         },
         "mode": "lines",
         "name": "university",
         "orientation": "v",
         "showlegend": true,
         "type": "scatter",
         "x": [
          "2024-10-28",
          "2024-10-28",
          "2024-10-28",
          "2024-10-28",
          "2024-10-28",
          "2024-10-29",
          "2024-10-29",
          "2024-10-29",
          "2024-10-29",
          "2024-10-29",
          "2024-10-30",
          "2024-10-30",
          "2024-10-30",
          "2024-10-30",
          "2024-10-30",
          "2024-10-31",
          "2024-10-31",
          "2024-10-31",
          "2024-10-31",
          "2024-10-31",
          "2024-11-01",
          "2024-11-01",
          "2024-11-01",
          "2024-11-01",
          "2024-11-01",
          "2024-11-02",
          "2024-11-02",
          "2024-11-02",
          "2024-11-02",
          "2024-11-02",
          "2024-11-03",
          "2024-11-03",
          "2024-11-03",
          "2024-11-03",
          "2024-11-03",
          "2024-11-04",
          "2024-11-04",
          "2024-11-04",
          "2024-11-04",
          "2024-11-04",
          "2024-11-05",
          "2024-11-05",
          "2024-11-05",
          "2024-11-05",
          "2024-11-05",
          "2024-11-06",
          "2024-11-06",
          "2024-11-06",
          "2024-11-06",
          "2024-11-06",
          "2024-11-07",
          "2024-11-07",
          "2024-11-07",
          "2024-11-07",
          "2024-11-07",
          "2024-11-08",
          "2024-11-08",
          "2024-11-08",
          "2024-11-08",
          "2024-11-08",
          "2024-11-09",
          "2024-11-09",
          "2024-11-09",
          "2024-11-09",
          "2024-11-09",
          "2024-11-10",
          "2024-11-10",
          "2024-11-10",
          "2024-11-10",
          "2024-11-10",
          "2024-11-11",
          "2024-11-11",
          "2024-11-11",
          "2024-11-11",
          "2024-11-11",
          "2024-11-12",
          "2024-11-12",
          "2024-11-12",
          "2024-11-12",
          "2024-11-12",
          "2024-11-13",
          "2024-11-13",
          "2024-11-13",
          "2024-11-13",
          "2024-11-13",
          "2024-11-14",
          "2024-11-14",
          "2024-11-14",
          "2024-11-14",
          "2024-11-14",
          "2024-11-15",
          "2024-11-15",
          "2024-11-15",
          "2024-11-15",
          "2024-11-15",
          "2024-11-16",
          "2024-11-16",
          "2024-11-16",
          "2024-11-16",
          "2024-11-16",
          "2024-11-17",
          "2024-11-17",
          "2024-11-17",
          "2024-11-17",
          "2024-11-17"
         ],
         "xaxis": "x",
         "y": [
          420,
          382,
          375,
          410,
          405,
          385,
          411,
          418,
          395,
          408,
          393,
          402,
          400,
          415,
          396,
          409,
          385,
          400,
          379,
          370,
          302,
          328,
          280,
          286,
          342,
          33,
          37,
          28,
          38,
          35,
          27,
          26,
          28,
          36,
          38,
          402,
          405,
          370,
          392,
          411,
          387,
          433,
          412,
          403,
          409,
          374,
          409,
          393,
          404,
          374,
          366,
          398,
          409,
          393,
          418,
          317,
          306,
          277,
          272,
          310,
          30,
          42,
          37,
          41,
          33,
          21,
          32,
          33,
          36,
          33,
          394,
          357,
          369,
          409,
          398,
          394,
          410,
          388,
          378,
          371,
          370,
          403,
          401,
          372,
          401,
          428,
          415,
          394,
          391,
          385,
          321,
          313,
          312,
          304,
          347,
          32,
          30,
          33,
          24,
          47,
          32,
          38,
          48,
          38,
          30
         ],
         "yaxis": "y"
        }
       ],
       "layout": {
        "legend": {
         "title": {
          "text": "category"
         },
         "tracegroupgap": 0
        },
        "template": {
         "data": {
          "bar": [
           {
            "error_x": {
             "color": "#2a3f5f"
            },
            "error_y": {
             "color": "#2a3f5f"
            },
            "marker": {
             "line": {
              "color": "#E5ECF6",
              "width": 0.5
             },
             "pattern": {
              "fillmode": "overlay",
              "size": 10,
              "solidity": 0.2
             }
            },
            "type": "bar"
           }
          ],
          "barpolar": [
           {
            "marker": {
             "line": {
              "color": "#E5ECF6",
              "width": 0.5
             },
             "pattern": {
              "fillmode": "overlay",
              "size": 10,
              "solidity": 0.2
             }
            },
            "type": "barpolar"
           }
          ],
          "carpet": [
           {
            "aaxis": {
             "endlinecolor": "#2a3f5f",
             "gridcolor": "white",
             "linecolor": "white",
             "minorgridcolor": "white",
             "startlinecolor": "#2a3f5f"
            },
            "baxis": {
             "endlinecolor": "#2a3f5f",
             "gridcolor": "white",
             "linecolor": "white",
             "minorgridcolor": "white",
             "startlinecolor": "#2a3f5f"
            },
            "type": "carpet"
           }
          ],
          "choropleth": [
           {
            "colorbar": {
             "outlinewidth": 0,
             "ticks": ""
            },
            "type": "choropleth"
           }
          ],
          "contour": [
           {
            "colorbar": {
             "outlinewidth": 0,
             "ticks": ""
            },
            "colorscale": [
             [
              0,
              "#0d0887"
             ],
             [
              0.1111111111111111,
              "#46039f"
             ],
             [
              0.2222222222222222,
              "#7201a8"
             ],
             [
              0.3333333333333333,
              "#9c179e"
             ],
             [
              0.4444444444444444,
              "#bd3786"
             ],
             [
              0.5555555555555556,
              "#d8576b"
             ],
             [
              0.6666666666666666,
              "#ed7953"
             ],
             [
              0.7777777777777778,
              "#fb9f3a"
             ],
             [
              0.8888888888888888,
              "#fdca26"
             ],
             [
              1,
              "#f0f921"
             ]
            ],
            "type": "contour"
           }
          ],
          "contourcarpet": [
           {
            "colorbar": {
             "outlinewidth": 0,
             "ticks": ""
            },
            "type": "contourcarpet"
           }
          ],
          "heatmap": [
           {
            "colorbar": {
             "outlinewidth": 0,
             "ticks": ""
            },
            "colorscale": [
             [
              0,
              "#0d0887"
             ],
             [
              0.1111111111111111,
              "#46039f"
             ],
             [
              0.2222222222222222,
              "#7201a8"
             ],
             [
              0.3333333333333333,
              "#9c179e"
             ],
             [
              0.4444444444444444,
              "#bd3786"
             ],
             [
              0.5555555555555556,
              "#d8576b"
             ],
             [
              0.6666666666666666,
              "#ed7953"
             ],
             [
              0.7777777777777778,
              "#fb9f3a"
             ],
             [
              0.8888888888888888,
              "#fdca26"
             ],
             [
              1,
              "#f0f921"
             ]
            ],
            "type": "heatmap"
           }
          ],
          "heatmapgl": [
           {
            "colorbar": {
             "outlinewidth": 0,
             "ticks": ""
            },
            "colorscale": [
             [
              0,
              "#0d0887"
             ],
             [
              0.1111111111111111,
              "#46039f"
             ],
             [
              0.2222222222222222,
              "#7201a8"
             ],
             [
              0.3333333333333333,
              "#9c179e"
             ],
             [
              0.4444444444444444,
              "#bd3786"
             ],
             [
              0.5555555555555556,
              "#d8576b"
             ],
             [
              0.6666666666666666,
              "#ed7953"
             ],
             [
              0.7777777777777778,
              "#fb9f3a"
             ],
             [
              0.8888888888888888,
              "#fdca26"
             ],
             [
              1,
              "#f0f921"
             ]
            ],
            "type": "heatmapgl"
           }
          ],
          "histogram": [
           {
            "marker": {
             "pattern": {
              "fillmode": "overlay",
              "size": 10,
              "solidity": 0.2
             }
            },
            "type": "histogram"
           }
          ],
          "histogram2d": [
           {
            "colorbar": {
             "outlinewidth": 0,
             "ticks": ""
            },
            "colorscale": [
             [
              0,
              "#0d0887"
             ],
             [
              0.1111111111111111,
              "#46039f"
             ],
             [
              0.2222222222222222,
              "#7201a8"
             ],
             [
              0.3333333333333333,
              "#9c179e"
             ],
             [
              0.4444444444444444,
              "#bd3786"
             ],
             [
              0.5555555555555556,
              "#d8576b"
             ],
             [
              0.6666666666666666,
              "#ed7953"
             ],
             [
              0.7777777777777778,
              "#fb9f3a"
             ],
             [
              0.8888888888888888,
              "#fdca26"
             ],
             [
              1,
              "#f0f921"
             ]
            ],
            "type": "histogram2d"
           }
          ],
          "histogram2dcontour": [
           {
            "colorbar": {
             "outlinewidth": 0,
             "ticks": ""
            },
            "colorscale": [
             [
              0,
              "#0d0887"
             ],
             [
              0.1111111111111111,
              "#46039f"
             ],
             [
              0.2222222222222222,
              "#7201a8"
             ],
             [
              0.3333333333333333,
              "#9c179e"
             ],
             [
              0.4444444444444444,
              "#bd3786"
             ],
             [
              0.5555555555555556,
              "#d8576b"
             ],
             [
              0.6666666666666666,
              "#ed7953"
             ],
             [
              0.7777777777777778,
              "#fb9f3a"
             ],
             [
              0.8888888888888888,
              "#fdca26"
             ],
             [
              1,
              "#f0f921"
             ]
            ],
            "type": "histogram2dcontour"
           }
          ],
          "mesh3d": [
           {
            "colorbar": {
             "outlinewidth": 0,
             "ticks": ""
            },
            "type": "mesh3d"
           }
          ],
          "parcoords": [
           {
            "line": {
             "colorbar": {
              "outlinewidth": 0,
              "ticks": ""
             }
            },
            "type": "parcoords"
           }
          ],
          "pie": [
           {
            "automargin": true,
            "type": "pie"
           }
          ],
          "scatter": [
           {
            "fillpattern": {
             "fillmode": "overlay",
             "size": 10,
             "solidity": 0.2
            },
            "type": "scatter"
           }
          ],
          "scatter3d": [
           {
            "line": {
             "colorbar": {
              "outlinewidth": 0,
              "ticks": ""
             }
            },
            "marker": {
             "colorbar": {
              "outlinewidth": 0,
              "ticks": ""
             }
            },
            "type": "scatter3d"
           }
          ],
          "scattercarpet": [
           {
            "marker": {
             "colorbar": {
              "outlinewidth": 0,
              "ticks": ""
             }
            },
            "type": "scattercarpet"
           }
          ],
          "scattergeo": [
           {
            "marker": {
             "colorbar": {
              "outlinewidth": 0,
              "ticks": ""
             }
            },
            "type": "scattergeo"
           }
          ],
          "scattergl": [
           {
            "marker": {
             "colorbar": {
              "outlinewidth": 0,
              "ticks": ""
             }
            },
            "type": "scattergl"
           }
          ],
          "scattermapbox": [
           {
            "marker": {
             "colorbar": {
              "outlinewidth": 0,
              "ticks": ""
             }
            },
            "type": "scattermapbox"
           }
          ],
          "scatterpolar": [
           {
            "marker": {
             "colorbar": {
              "outlinewidth": 0,
              "ticks": ""
             }
            },
            "type": "scatterpolar"
           }
          ],
          "scatterpolargl": [
           {
            "marker": {
             "colorbar": {
              "outlinewidth": 0,
              "ticks": ""
             }
            },
            "type": "scatterpolargl"
           }
          ],
          "scatterternary": [
           {
            "marker": {
             "colorbar": {
              "outlinewidth": 0,
              "ticks": ""
             }
            },
            "type": "scatterternary"
           }
          ],
          "surface": [
           {
            "colorbar": {
             "outlinewidth": 0,
             "ticks": ""
            },
            "colorscale": [
             [
              0,
              "#0d0887"
             ],
             [
              0.1111111111111111,
              "#46039f"
             ],
             [
              0.2222222222222222,
              "#7201a8"
             ],
             [
              0.3333333333333333,
              "#9c179e"
             ],
             [
              0.4444444444444444,
              "#bd3786"
             ],
             [
              0.5555555555555556,
              "#d8576b"
             ],
             [
              0.6666666666666666,
              "#ed7953"
             ],
             [
              0.7777777777777778,
              "#fb9f3a"
             ],
             [
              0.8888888888888888,
              "#fdca26"
             ],
             [
              1,
              "#f0f921"
             ]
            ],
            "type": "surface"
           }
          ],
          "table": [
           {
            "cells": {
             "fill": {
              "color": "#EBF0F8"
             },
             "line": {
              "color": "white"
             }
            },
            "header": {
             "fill": {
              "color": "#C8D4E3"
             },
             "line": {
              "color": "white"
             }
            },
            "type": "table"
           }
          ]
         },
         "layout": {
          "annotationdefaults": {
           "arrowcolor": "#2a3f5f",
           "arrowhead": 0,
           "arrowwidth": 1
          },
          "autotypenumbers": "strict",
          "coloraxis": {
           "colorbar": {
            "outlinewidth": 0,
            "ticks": ""
           }
          },
          "colorscale": {
           "diverging": [
            [
             0,
             "#8e0152"
            ],
            [
             0.1,
             "#c51b7d"
            ],
            [
             0.2,
             "#de77ae"
            ],
            [
             0.3,
             "#f1b6da"
            ],
            [
             0.4,
             "#fde0ef"
            ],
            [
             0.5,
             "#f7f7f7"
            ],
            [
             0.6,
             "#e6f5d0"
            ],
            [
             0.7,
             "#b8e186"
            ],
            [
             0.8,
             "#7fbc41"
            ],
            [
             0.9,
             "#4d9221"
            ],
            [
             1,
             "#276419"
            ]
           ],
           "sequential": [
            [
             0,
             "#0d0887"
            ],
            [
             0.1111111111111111,
             "#46039f"
            ],
            [
             0.2222222222222222,
             "#7201a8"
            ],
            [
             0.3333333333333333,
             "#9c179e"
            ],
            [
             0.4444444444444444,
             "#bd3786"
            ],
            [
             0.5555555555555556,
             "#d8576b"
            ],
            [
             0.6666666666666666,
             "#ed7953"
            ],
            [
             0.7777777777777778,
             "#fb9f3a"
            ],
            [
             0.8888888888888888,
             "#fdca26"
            ],
            [
             1,
             "#f0f921"
            ]
           ],
           "sequentialminus": [
            [
             0,
             "#0d0887"
            ],
            [
             0.1111111111111111,
             "#46039f"
            ],
            [
             0.2222222222222222,
             "#7201a8"
            ],
            [
             0.3333333333333333,
             "#9c179e"
            ],
            [
             0.4444444444444444,
             "#bd3786"
            ],
            [
             0.5555555555555556,
             "#d8576b"
            ],
            [
             0.6666666666666666,
             "#ed7953"
            ],
            [
             0.7777777777777778,
             "#fb9f3a"
            ],
            [
             0.8888888888888888,
             "#fdca26"
            ],
            [
             1,
             "#f0f921"
            ]
           ]
          },
          "colorway": [
           "#636efa",
           "#EF553B",
           "#00cc96",
           "#ab63fa",
           "#FFA15A",
           "#19d3f3",
           "#FF6692",
           "#B6E880",
           "#FF97FF",
           "#FECB52"
          ],
          "font": {
           "color": "#2a3f5f"
          },
          "geo": {
           "bgcolor": "white",
           "lakecolor": "white",
           "landcolor": "#E5ECF6",
           "showlakes": true,
           "showland": true,
           "subunitcolor": "white"
          },
          "hoverlabel": {
           "align": "left"
          },
          "hovermode": "closest",
          "mapbox": {
           "style": "light"
          },
          "paper_bgcolor": "white",
          "plot_bgcolor": "#E5ECF6",
          "polar": {
           "angularaxis": {
            "gridcolor": "white",
            "linecolor": "white",
            "ticks": ""
           },
           "bgcolor": "#E5ECF6",
           "radialaxis": {
            "gridcolor": "white",
            "linecolor": "white",
            "ticks": ""
           }
          },
          "scene": {
           "xaxis": {
            "backgroundcolor": "#E5ECF6",
            "gridcolor": "white",
            "gridwidth": 2,
            "linecolor": "white",
            "showbackground": true,
            "ticks": "",
            "zerolinecolor": "white"
           },
           "yaxis": {
            "backgroundcolor": "#E5ECF6",
            "gridcolor": "white",
            "gridwidth": 2,
            "linecolor": "white",
            "showbackground": true,
            "ticks": "",
            "zerolinecolor": "white"
           },
           "zaxis": {
            "backgroundcolor": "#E5ECF6",
            "gridcolor": "white",
            "gridwidth": 2,
            "linecolor": "white",
            "showbackground": true,
            "ticks": "",
            "zerolinecolor": "white"
           }
          },
          "shapedefaults": {
           "line": {
            "color": "#2a3f5f"
           }
          },
          "ternary": {
           "aaxis": {
            "gridcolor": "white",
            "linecolor": "white",
            "ticks": ""
           },
           "baxis": {
            "gridcolor": "white",
            "linecolor": "white",
            "ticks": ""
           },
           "bgcolor": "#E5ECF6",
           "caxis": {
            "gridcolor": "white",
            "linecolor": "white",
            "ticks": ""
           }
          },
          "title": {
           "x": 0.05
          },
          "xaxis": {
           "automargin": true,
           "gridcolor": "white",
           "linecolor": "white",
           "ticks": "",
           "title": {
            "standoff": 15
           },
           "zerolinecolor": "white",
           "zerolinewidth": 2
          },
          "yaxis": {
           "automargin": true,
           "gridcolor": "white",
           "linecolor": "white",
           "ticks": "",
           "title": {
            "standoff": 15
           },
           "zerolinecolor": "white",
           "zerolinewidth": 2
          }
         }
        },
        "title": {
         "text": "Time Series of total visitors by venue"
        },
        "xaxis": {
         "anchor": "y",
         "domain": [
          0,
          1
         ],
         "title": {
          "text": "Date"
         }
        },
        "yaxis": {
         "anchor": "x",
         "domain": [
          0,
          1
         ],
         "title": {
          "text": "Total visitors"
         }
        }
       }
      }
     },
     "metadata": {},
     "output_type": "display_data"
    }
   ],
   "source": [
    "forecasting_df = pd.read_csv('pre_processed_venue_data.csv')\n",
    "VENUE_MAPPING = {\"UN\": \"university\", \"CO\": \"coffee place\", \"CI\": \"cinema\"}\n",
    "forecasting_df['category'] = forecasting_df['venue_id'].apply(lambda x: VENUE_MAPPING[x[:2]])\n",
    "# Plot the time series graph\n",
    "fig = px.line(\n",
    "    forecasting_df,\n",
    "    x='date',\n",
    "    y='visitor_count_total',\n",
    "    color='category',\n",
    "    title=\"Time Series of total visitors by venue\",\n",
    "    labels={'visitor_count_total': 'Total visitors', 'date': 'Date'}\n",
    ")\n",
    "\n",
    "fig.show()"
   ]
  },
  {
   "cell_type": "code",
   "execution_count": 21,
   "metadata": {},
   "outputs": [
    {
     "data": {
      "application/vnd.plotly.v1+json": {
       "config": {
        "plotlyServerURL": "https://plot.ly"
       },
       "data": [
        {
         "hovertemplate": "venue_id=CI000<br>Date=%{x}<br>Total visitors=%{y}<extra></extra>",
         "legendgroup": "CI000",
         "line": {
          "color": "#636efa",
          "dash": "solid"
         },
         "marker": {
          "symbol": "circle"
         },
         "mode": "lines",
         "name": "CI000",
         "orientation": "v",
         "showlegend": true,
         "type": "scatter",
         "x": [
          "2024-10-28",
          "2024-10-29",
          "2024-10-30",
          "2024-10-31",
          "2024-11-01",
          "2024-11-02",
          "2024-11-03",
          "2024-11-04",
          "2024-11-05",
          "2024-11-06",
          "2024-11-07",
          "2024-11-08",
          "2024-11-09",
          "2024-11-10",
          "2024-11-11",
          "2024-11-12",
          "2024-11-13",
          "2024-11-14",
          "2024-11-15",
          "2024-11-16",
          "2024-11-17"
         ],
         "xaxis": "x",
         "y": [
          16,
          9,
          15,
          15,
          11,
          23,
          25,
          14,
          15,
          8,
          21,
          13,
          26,
          37,
          11,
          12,
          8,
          16,
          20,
          29,
          24
         ],
         "yaxis": "y"
        },
        {
         "hovertemplate": "venue_id=CI001<br>Date=%{x}<br>Total visitors=%{y}<extra></extra>",
         "legendgroup": "CI001",
         "line": {
          "color": "#EF553B",
          "dash": "solid"
         },
         "marker": {
          "symbol": "circle"
         },
         "mode": "lines",
         "name": "CI001",
         "orientation": "v",
         "showlegend": true,
         "type": "scatter",
         "x": [
          "2024-10-28",
          "2024-10-29",
          "2024-10-30",
          "2024-10-31",
          "2024-11-01",
          "2024-11-02",
          "2024-11-03",
          "2024-11-04",
          "2024-11-05",
          "2024-11-06",
          "2024-11-07",
          "2024-11-08",
          "2024-11-09",
          "2024-11-10",
          "2024-11-11",
          "2024-11-12",
          "2024-11-13",
          "2024-11-14",
          "2024-11-15",
          "2024-11-16",
          "2024-11-17"
         ],
         "xaxis": "x",
         "y": [
          21,
          14,
          16,
          16,
          16,
          18,
          26,
          16,
          15,
          16,
          14,
          20,
          16,
          26,
          11,
          13,
          15,
          11,
          20,
          26,
          20
         ],
         "yaxis": "y"
        },
        {
         "hovertemplate": "venue_id=CI002<br>Date=%{x}<br>Total visitors=%{y}<extra></extra>",
         "legendgroup": "CI002",
         "line": {
          "color": "#00cc96",
          "dash": "solid"
         },
         "marker": {
          "symbol": "circle"
         },
         "mode": "lines",
         "name": "CI002",
         "orientation": "v",
         "showlegend": true,
         "type": "scatter",
         "x": [
          "2024-10-28",
          "2024-10-29",
          "2024-10-30",
          "2024-10-31",
          "2024-11-01",
          "2024-11-02",
          "2024-11-03",
          "2024-11-04",
          "2024-11-05",
          "2024-11-06",
          "2024-11-07",
          "2024-11-08",
          "2024-11-09",
          "2024-11-10",
          "2024-11-11",
          "2024-11-12",
          "2024-11-13",
          "2024-11-14",
          "2024-11-15",
          "2024-11-16",
          "2024-11-17"
         ],
         "xaxis": "x",
         "y": [
          12,
          17,
          7,
          10,
          18,
          21,
          18,
          12,
          16,
          12,
          11,
          15,
          27,
          26,
          14,
          9,
          14,
          17,
          20,
          28,
          23
         ],
         "yaxis": "y"
        },
        {
         "hovertemplate": "venue_id=CI003<br>Date=%{x}<br>Total visitors=%{y}<extra></extra>",
         "legendgroup": "CI003",
         "line": {
          "color": "#ab63fa",
          "dash": "solid"
         },
         "marker": {
          "symbol": "circle"
         },
         "mode": "lines",
         "name": "CI003",
         "orientation": "v",
         "showlegend": true,
         "type": "scatter",
         "x": [
          "2024-10-28",
          "2024-10-29",
          "2024-10-30",
          "2024-10-31",
          "2024-11-01",
          "2024-11-02",
          "2024-11-03",
          "2024-11-04",
          "2024-11-05",
          "2024-11-06",
          "2024-11-07",
          "2024-11-08",
          "2024-11-09",
          "2024-11-10",
          "2024-11-11",
          "2024-11-12",
          "2024-11-13",
          "2024-11-14",
          "2024-11-15",
          "2024-11-16",
          "2024-11-17"
         ],
         "xaxis": "x",
         "y": [
          14,
          9,
          7,
          13,
          12,
          30,
          15,
          19,
          10,
          9,
          18,
          15,
          24,
          23,
          11,
          13,
          11,
          20,
          13,
          28,
          30
         ],
         "yaxis": "y"
        },
        {
         "hovertemplate": "venue_id=CI004<br>Date=%{x}<br>Total visitors=%{y}<extra></extra>",
         "legendgroup": "CI004",
         "line": {
          "color": "#FFA15A",
          "dash": "solid"
         },
         "marker": {
          "symbol": "circle"
         },
         "mode": "lines",
         "name": "CI004",
         "orientation": "v",
         "showlegend": true,
         "type": "scatter",
         "x": [
          "2024-10-28",
          "2024-10-29",
          "2024-10-30",
          "2024-10-31",
          "2024-11-01",
          "2024-11-02",
          "2024-11-03",
          "2024-11-04",
          "2024-11-05",
          "2024-11-06",
          "2024-11-07",
          "2024-11-08",
          "2024-11-09",
          "2024-11-10",
          "2024-11-11",
          "2024-11-12",
          "2024-11-13",
          "2024-11-14",
          "2024-11-15",
          "2024-11-16",
          "2024-11-17"
         ],
         "xaxis": "x",
         "y": [
          8,
          20,
          12,
          12,
          27,
          21,
          23,
          20,
          12,
          12,
          9,
          14,
          34,
          16,
          16,
          11,
          17,
          12,
          16,
          28,
          28
         ],
         "yaxis": "y"
        },
        {
         "hovertemplate": "venue_id=CO000<br>Date=%{x}<br>Total visitors=%{y}<extra></extra>",
         "legendgroup": "CO000",
         "line": {
          "color": "#19d3f3",
          "dash": "solid"
         },
         "marker": {
          "symbol": "circle"
         },
         "mode": "lines",
         "name": "CO000",
         "orientation": "v",
         "showlegend": true,
         "type": "scatter",
         "x": [
          "2024-10-28",
          "2024-10-29",
          "2024-10-30",
          "2024-10-31",
          "2024-11-01",
          "2024-11-02",
          "2024-11-03",
          "2024-11-04",
          "2024-11-05",
          "2024-11-06",
          "2024-11-07",
          "2024-11-08",
          "2024-11-09",
          "2024-11-10",
          "2024-11-11",
          "2024-11-12",
          "2024-11-14",
          "2024-11-15",
          "2024-11-16",
          "2024-11-17"
         ],
         "xaxis": "x",
         "y": [
          58,
          109,
          88,
          91,
          98,
          87,
          43,
          68,
          112,
          97,
          103,
          103,
          72,
          42,
          84,
          114,
          93,
          90,
          96,
          43
         ],
         "yaxis": "y"
        },
        {
         "hovertemplate": "venue_id=CO001<br>Date=%{x}<br>Total visitors=%{y}<extra></extra>",
         "legendgroup": "CO001",
         "line": {
          "color": "#FF6692",
          "dash": "solid"
         },
         "marker": {
          "symbol": "circle"
         },
         "mode": "lines",
         "name": "CO001",
         "orientation": "v",
         "showlegend": true,
         "type": "scatter",
         "x": [
          "2024-10-28",
          "2024-10-29",
          "2024-10-30",
          "2024-10-31",
          "2024-11-01",
          "2024-11-02",
          "2024-11-03",
          "2024-11-04",
          "2024-11-05",
          "2024-11-06",
          "2024-11-07",
          "2024-11-08",
          "2024-11-09",
          "2024-11-10",
          "2024-11-11",
          "2024-11-12",
          "2024-11-13",
          "2024-11-14",
          "2024-11-15",
          "2024-11-16",
          "2024-11-17"
         ],
         "xaxis": "x",
         "y": [
          70,
          104,
          103,
          75,
          100,
          67,
          49,
          77,
          104,
          88,
          99,
          85,
          87,
          40,
          88,
          92,
          93,
          80,
          105,
          88,
          31
         ],
         "yaxis": "y"
        },
        {
         "hovertemplate": "venue_id=CO002<br>Date=%{x}<br>Total visitors=%{y}<extra></extra>",
         "legendgroup": "CO002",
         "line": {
          "color": "#B6E880",
          "dash": "solid"
         },
         "marker": {
          "symbol": "circle"
         },
         "mode": "lines",
         "name": "CO002",
         "orientation": "v",
         "showlegend": true,
         "type": "scatter",
         "x": [
          "2024-10-28",
          "2024-10-29",
          "2024-10-30",
          "2024-10-31",
          "2024-11-01",
          "2024-11-02",
          "2024-11-03",
          "2024-11-04",
          "2024-11-05",
          "2024-11-06",
          "2024-11-07",
          "2024-11-08",
          "2024-11-09",
          "2024-11-10",
          "2024-11-11",
          "2024-11-12",
          "2024-11-13",
          "2024-11-14",
          "2024-11-15",
          "2024-11-16",
          "2024-11-17"
         ],
         "xaxis": "x",
         "y": [
          66,
          97,
          106,
          98,
          94,
          77,
          35,
          80,
          104,
          112,
          83,
          93,
          86,
          42,
          68,
          100,
          87,
          95,
          101,
          86,
          53
         ],
         "yaxis": "y"
        },
        {
         "hovertemplate": "venue_id=CO003<br>Date=%{x}<br>Total visitors=%{y}<extra></extra>",
         "legendgroup": "CO003",
         "line": {
          "color": "#FF97FF",
          "dash": "solid"
         },
         "marker": {
          "symbol": "circle"
         },
         "mode": "lines",
         "name": "CO003",
         "orientation": "v",
         "showlegend": true,
         "type": "scatter",
         "x": [
          "2024-10-28",
          "2024-10-29",
          "2024-10-30",
          "2024-10-31",
          "2024-11-01",
          "2024-11-02",
          "2024-11-03",
          "2024-11-04",
          "2024-11-05",
          "2024-11-06",
          "2024-11-07",
          "2024-11-08",
          "2024-11-09",
          "2024-11-10",
          "2024-11-11",
          "2024-11-12",
          "2024-11-13",
          "2024-11-14",
          "2024-11-15",
          "2024-11-16",
          "2024-11-17"
         ],
         "xaxis": "x",
         "y": [
          80,
          84,
          85,
          90,
          86,
          92,
          50,
          71,
          102,
          112,
          101,
          105,
          83,
          39,
          86,
          120,
          96,
          89,
          91,
          57,
          35
         ],
         "yaxis": "y"
        },
        {
         "hovertemplate": "venue_id=CO004<br>Date=%{x}<br>Total visitors=%{y}<extra></extra>",
         "legendgroup": "CO004",
         "line": {
          "color": "#FECB52",
          "dash": "solid"
         },
         "marker": {
          "symbol": "circle"
         },
         "mode": "lines",
         "name": "CO004",
         "orientation": "v",
         "showlegend": true,
         "type": "scatter",
         "x": [
          "2024-10-28",
          "2024-10-29",
          "2024-10-30",
          "2024-10-31",
          "2024-11-01",
          "2024-11-02",
          "2024-11-03",
          "2024-11-04",
          "2024-11-05",
          "2024-11-06",
          "2024-11-07",
          "2024-11-08",
          "2024-11-09",
          "2024-11-10",
          "2024-11-11",
          "2024-11-12",
          "2024-11-13",
          "2024-11-14",
          "2024-11-15",
          "2024-11-16",
          "2024-11-17"
         ],
         "xaxis": "x",
         "y": [
          69,
          98,
          94,
          87,
          91,
          74,
          56,
          77,
          84,
          84,
          93,
          116,
          86,
          37,
          83,
          104,
          103,
          91,
          99,
          76,
          54
         ],
         "yaxis": "y"
        },
        {
         "hovertemplate": "venue_id=UN000<br>Date=%{x}<br>Total visitors=%{y}<extra></extra>",
         "legendgroup": "UN000",
         "line": {
          "color": "#636efa",
          "dash": "solid"
         },
         "marker": {
          "symbol": "circle"
         },
         "mode": "lines",
         "name": "UN000",
         "orientation": "v",
         "showlegend": true,
         "type": "scatter",
         "x": [
          "2024-10-28",
          "2024-10-29",
          "2024-10-30",
          "2024-10-31",
          "2024-11-01",
          "2024-11-02",
          "2024-11-03",
          "2024-11-04",
          "2024-11-05",
          "2024-11-06",
          "2024-11-07",
          "2024-11-08",
          "2024-11-09",
          "2024-11-10",
          "2024-11-11",
          "2024-11-12",
          "2024-11-13",
          "2024-11-14",
          "2024-11-15",
          "2024-11-16",
          "2024-11-17"
         ],
         "xaxis": "x",
         "y": [
          420,
          385,
          393,
          409,
          302,
          33,
          27,
          402,
          387,
          374,
          366,
          317,
          30,
          21,
          394,
          394,
          370,
          428,
          321,
          32,
          32
         ],
         "yaxis": "y"
        },
        {
         "hovertemplate": "venue_id=UN001<br>Date=%{x}<br>Total visitors=%{y}<extra></extra>",
         "legendgroup": "UN001",
         "line": {
          "color": "#EF553B",
          "dash": "solid"
         },
         "marker": {
          "symbol": "circle"
         },
         "mode": "lines",
         "name": "UN001",
         "orientation": "v",
         "showlegend": true,
         "type": "scatter",
         "x": [
          "2024-10-28",
          "2024-10-29",
          "2024-10-30",
          "2024-10-31",
          "2024-11-01",
          "2024-11-02",
          "2024-11-03",
          "2024-11-04",
          "2024-11-05",
          "2024-11-06",
          "2024-11-07",
          "2024-11-08",
          "2024-11-09",
          "2024-11-10",
          "2024-11-11",
          "2024-11-12",
          "2024-11-13",
          "2024-11-14",
          "2024-11-15",
          "2024-11-16",
          "2024-11-17"
         ],
         "xaxis": "x",
         "y": [
          382,
          411,
          402,
          385,
          328,
          37,
          26,
          405,
          433,
          409,
          398,
          306,
          42,
          32,
          357,
          410,
          403,
          415,
          313,
          30,
          38
         ],
         "yaxis": "y"
        },
        {
         "hovertemplate": "venue_id=UN002<br>Date=%{x}<br>Total visitors=%{y}<extra></extra>",
         "legendgroup": "UN002",
         "line": {
          "color": "#00cc96",
          "dash": "solid"
         },
         "marker": {
          "symbol": "circle"
         },
         "mode": "lines",
         "name": "UN002",
         "orientation": "v",
         "showlegend": true,
         "type": "scatter",
         "x": [
          "2024-10-28",
          "2024-10-29",
          "2024-10-30",
          "2024-10-31",
          "2024-11-01",
          "2024-11-02",
          "2024-11-03",
          "2024-11-04",
          "2024-11-05",
          "2024-11-06",
          "2024-11-07",
          "2024-11-08",
          "2024-11-09",
          "2024-11-10",
          "2024-11-11",
          "2024-11-12",
          "2024-11-13",
          "2024-11-14",
          "2024-11-15",
          "2024-11-16",
          "2024-11-17"
         ],
         "xaxis": "x",
         "y": [
          375,
          418,
          400,
          400,
          280,
          28,
          28,
          370,
          412,
          393,
          409,
          277,
          37,
          33,
          369,
          388,
          401,
          394,
          312,
          33,
          48
         ],
         "yaxis": "y"
        },
        {
         "hovertemplate": "venue_id=UN003<br>Date=%{x}<br>Total visitors=%{y}<extra></extra>",
         "legendgroup": "UN003",
         "line": {
          "color": "#ab63fa",
          "dash": "solid"
         },
         "marker": {
          "symbol": "circle"
         },
         "mode": "lines",
         "name": "UN003",
         "orientation": "v",
         "showlegend": true,
         "type": "scatter",
         "x": [
          "2024-10-28",
          "2024-10-29",
          "2024-10-30",
          "2024-10-31",
          "2024-11-01",
          "2024-11-02",
          "2024-11-03",
          "2024-11-04",
          "2024-11-05",
          "2024-11-06",
          "2024-11-07",
          "2024-11-08",
          "2024-11-09",
          "2024-11-10",
          "2024-11-11",
          "2024-11-12",
          "2024-11-13",
          "2024-11-14",
          "2024-11-15",
          "2024-11-16",
          "2024-11-17"
         ],
         "xaxis": "x",
         "y": [
          410,
          395,
          415,
          379,
          286,
          38,
          36,
          392,
          403,
          404,
          393,
          272,
          41,
          36,
          409,
          378,
          372,
          391,
          304,
          24,
          38
         ],
         "yaxis": "y"
        },
        {
         "hovertemplate": "venue_id=UN004<br>Date=%{x}<br>Total visitors=%{y}<extra></extra>",
         "legendgroup": "UN004",
         "line": {
          "color": "#FFA15A",
          "dash": "solid"
         },
         "marker": {
          "symbol": "circle"
         },
         "mode": "lines",
         "name": "UN004",
         "orientation": "v",
         "showlegend": true,
         "type": "scatter",
         "x": [
          "2024-10-28",
          "2024-10-29",
          "2024-10-30",
          "2024-10-31",
          "2024-11-01",
          "2024-11-02",
          "2024-11-03",
          "2024-11-04",
          "2024-11-05",
          "2024-11-06",
          "2024-11-07",
          "2024-11-08",
          "2024-11-09",
          "2024-11-10",
          "2024-11-11",
          "2024-11-12",
          "2024-11-13",
          "2024-11-14",
          "2024-11-15",
          "2024-11-16",
          "2024-11-17"
         ],
         "xaxis": "x",
         "y": [
          405,
          408,
          396,
          370,
          342,
          35,
          38,
          411,
          409,
          374,
          418,
          310,
          33,
          33,
          398,
          371,
          401,
          385,
          347,
          47,
          30
         ],
         "yaxis": "y"
        }
       ],
       "layout": {
        "legend": {
         "title": {
          "text": "venue_id"
         },
         "tracegroupgap": 0
        },
        "template": {
         "data": {
          "bar": [
           {
            "error_x": {
             "color": "#2a3f5f"
            },
            "error_y": {
             "color": "#2a3f5f"
            },
            "marker": {
             "line": {
              "color": "#E5ECF6",
              "width": 0.5
             },
             "pattern": {
              "fillmode": "overlay",
              "size": 10,
              "solidity": 0.2
             }
            },
            "type": "bar"
           }
          ],
          "barpolar": [
           {
            "marker": {
             "line": {
              "color": "#E5ECF6",
              "width": 0.5
             },
             "pattern": {
              "fillmode": "overlay",
              "size": 10,
              "solidity": 0.2
             }
            },
            "type": "barpolar"
           }
          ],
          "carpet": [
           {
            "aaxis": {
             "endlinecolor": "#2a3f5f",
             "gridcolor": "white",
             "linecolor": "white",
             "minorgridcolor": "white",
             "startlinecolor": "#2a3f5f"
            },
            "baxis": {
             "endlinecolor": "#2a3f5f",
             "gridcolor": "white",
             "linecolor": "white",
             "minorgridcolor": "white",
             "startlinecolor": "#2a3f5f"
            },
            "type": "carpet"
           }
          ],
          "choropleth": [
           {
            "colorbar": {
             "outlinewidth": 0,
             "ticks": ""
            },
            "type": "choropleth"
           }
          ],
          "contour": [
           {
            "colorbar": {
             "outlinewidth": 0,
             "ticks": ""
            },
            "colorscale": [
             [
              0,
              "#0d0887"
             ],
             [
              0.1111111111111111,
              "#46039f"
             ],
             [
              0.2222222222222222,
              "#7201a8"
             ],
             [
              0.3333333333333333,
              "#9c179e"
             ],
             [
              0.4444444444444444,
              "#bd3786"
             ],
             [
              0.5555555555555556,
              "#d8576b"
             ],
             [
              0.6666666666666666,
              "#ed7953"
             ],
             [
              0.7777777777777778,
              "#fb9f3a"
             ],
             [
              0.8888888888888888,
              "#fdca26"
             ],
             [
              1,
              "#f0f921"
             ]
            ],
            "type": "contour"
           }
          ],
          "contourcarpet": [
           {
            "colorbar": {
             "outlinewidth": 0,
             "ticks": ""
            },
            "type": "contourcarpet"
           }
          ],
          "heatmap": [
           {
            "colorbar": {
             "outlinewidth": 0,
             "ticks": ""
            },
            "colorscale": [
             [
              0,
              "#0d0887"
             ],
             [
              0.1111111111111111,
              "#46039f"
             ],
             [
              0.2222222222222222,
              "#7201a8"
             ],
             [
              0.3333333333333333,
              "#9c179e"
             ],
             [
              0.4444444444444444,
              "#bd3786"
             ],
             [
              0.5555555555555556,
              "#d8576b"
             ],
             [
              0.6666666666666666,
              "#ed7953"
             ],
             [
              0.7777777777777778,
              "#fb9f3a"
             ],
             [
              0.8888888888888888,
              "#fdca26"
             ],
             [
              1,
              "#f0f921"
             ]
            ],
            "type": "heatmap"
           }
          ],
          "heatmapgl": [
           {
            "colorbar": {
             "outlinewidth": 0,
             "ticks": ""
            },
            "colorscale": [
             [
              0,
              "#0d0887"
             ],
             [
              0.1111111111111111,
              "#46039f"
             ],
             [
              0.2222222222222222,
              "#7201a8"
             ],
             [
              0.3333333333333333,
              "#9c179e"
             ],
             [
              0.4444444444444444,
              "#bd3786"
             ],
             [
              0.5555555555555556,
              "#d8576b"
             ],
             [
              0.6666666666666666,
              "#ed7953"
             ],
             [
              0.7777777777777778,
              "#fb9f3a"
             ],
             [
              0.8888888888888888,
              "#fdca26"
             ],
             [
              1,
              "#f0f921"
             ]
            ],
            "type": "heatmapgl"
           }
          ],
          "histogram": [
           {
            "marker": {
             "pattern": {
              "fillmode": "overlay",
              "size": 10,
              "solidity": 0.2
             }
            },
            "type": "histogram"
           }
          ],
          "histogram2d": [
           {
            "colorbar": {
             "outlinewidth": 0,
             "ticks": ""
            },
            "colorscale": [
             [
              0,
              "#0d0887"
             ],
             [
              0.1111111111111111,
              "#46039f"
             ],
             [
              0.2222222222222222,
              "#7201a8"
             ],
             [
              0.3333333333333333,
              "#9c179e"
             ],
             [
              0.4444444444444444,
              "#bd3786"
             ],
             [
              0.5555555555555556,
              "#d8576b"
             ],
             [
              0.6666666666666666,
              "#ed7953"
             ],
             [
              0.7777777777777778,
              "#fb9f3a"
             ],
             [
              0.8888888888888888,
              "#fdca26"
             ],
             [
              1,
              "#f0f921"
             ]
            ],
            "type": "histogram2d"
           }
          ],
          "histogram2dcontour": [
           {
            "colorbar": {
             "outlinewidth": 0,
             "ticks": ""
            },
            "colorscale": [
             [
              0,
              "#0d0887"
             ],
             [
              0.1111111111111111,
              "#46039f"
             ],
             [
              0.2222222222222222,
              "#7201a8"
             ],
             [
              0.3333333333333333,
              "#9c179e"
             ],
             [
              0.4444444444444444,
              "#bd3786"
             ],
             [
              0.5555555555555556,
              "#d8576b"
             ],
             [
              0.6666666666666666,
              "#ed7953"
             ],
             [
              0.7777777777777778,
              "#fb9f3a"
             ],
             [
              0.8888888888888888,
              "#fdca26"
             ],
             [
              1,
              "#f0f921"
             ]
            ],
            "type": "histogram2dcontour"
           }
          ],
          "mesh3d": [
           {
            "colorbar": {
             "outlinewidth": 0,
             "ticks": ""
            },
            "type": "mesh3d"
           }
          ],
          "parcoords": [
           {
            "line": {
             "colorbar": {
              "outlinewidth": 0,
              "ticks": ""
             }
            },
            "type": "parcoords"
           }
          ],
          "pie": [
           {
            "automargin": true,
            "type": "pie"
           }
          ],
          "scatter": [
           {
            "fillpattern": {
             "fillmode": "overlay",
             "size": 10,
             "solidity": 0.2
            },
            "type": "scatter"
           }
          ],
          "scatter3d": [
           {
            "line": {
             "colorbar": {
              "outlinewidth": 0,
              "ticks": ""
             }
            },
            "marker": {
             "colorbar": {
              "outlinewidth": 0,
              "ticks": ""
             }
            },
            "type": "scatter3d"
           }
          ],
          "scattercarpet": [
           {
            "marker": {
             "colorbar": {
              "outlinewidth": 0,
              "ticks": ""
             }
            },
            "type": "scattercarpet"
           }
          ],
          "scattergeo": [
           {
            "marker": {
             "colorbar": {
              "outlinewidth": 0,
              "ticks": ""
             }
            },
            "type": "scattergeo"
           }
          ],
          "scattergl": [
           {
            "marker": {
             "colorbar": {
              "outlinewidth": 0,
              "ticks": ""
             }
            },
            "type": "scattergl"
           }
          ],
          "scattermapbox": [
           {
            "marker": {
             "colorbar": {
              "outlinewidth": 0,
              "ticks": ""
             }
            },
            "type": "scattermapbox"
           }
          ],
          "scatterpolar": [
           {
            "marker": {
             "colorbar": {
              "outlinewidth": 0,
              "ticks": ""
             }
            },
            "type": "scatterpolar"
           }
          ],
          "scatterpolargl": [
           {
            "marker": {
             "colorbar": {
              "outlinewidth": 0,
              "ticks": ""
             }
            },
            "type": "scatterpolargl"
           }
          ],
          "scatterternary": [
           {
            "marker": {
             "colorbar": {
              "outlinewidth": 0,
              "ticks": ""
             }
            },
            "type": "scatterternary"
           }
          ],
          "surface": [
           {
            "colorbar": {
             "outlinewidth": 0,
             "ticks": ""
            },
            "colorscale": [
             [
              0,
              "#0d0887"
             ],
             [
              0.1111111111111111,
              "#46039f"
             ],
             [
              0.2222222222222222,
              "#7201a8"
             ],
             [
              0.3333333333333333,
              "#9c179e"
             ],
             [
              0.4444444444444444,
              "#bd3786"
             ],
             [
              0.5555555555555556,
              "#d8576b"
             ],
             [
              0.6666666666666666,
              "#ed7953"
             ],
             [
              0.7777777777777778,
              "#fb9f3a"
             ],
             [
              0.8888888888888888,
              "#fdca26"
             ],
             [
              1,
              "#f0f921"
             ]
            ],
            "type": "surface"
           }
          ],
          "table": [
           {
            "cells": {
             "fill": {
              "color": "#EBF0F8"
             },
             "line": {
              "color": "white"
             }
            },
            "header": {
             "fill": {
              "color": "#C8D4E3"
             },
             "line": {
              "color": "white"
             }
            },
            "type": "table"
           }
          ]
         },
         "layout": {
          "annotationdefaults": {
           "arrowcolor": "#2a3f5f",
           "arrowhead": 0,
           "arrowwidth": 1
          },
          "autotypenumbers": "strict",
          "coloraxis": {
           "colorbar": {
            "outlinewidth": 0,
            "ticks": ""
           }
          },
          "colorscale": {
           "diverging": [
            [
             0,
             "#8e0152"
            ],
            [
             0.1,
             "#c51b7d"
            ],
            [
             0.2,
             "#de77ae"
            ],
            [
             0.3,
             "#f1b6da"
            ],
            [
             0.4,
             "#fde0ef"
            ],
            [
             0.5,
             "#f7f7f7"
            ],
            [
             0.6,
             "#e6f5d0"
            ],
            [
             0.7,
             "#b8e186"
            ],
            [
             0.8,
             "#7fbc41"
            ],
            [
             0.9,
             "#4d9221"
            ],
            [
             1,
             "#276419"
            ]
           ],
           "sequential": [
            [
             0,
             "#0d0887"
            ],
            [
             0.1111111111111111,
             "#46039f"
            ],
            [
             0.2222222222222222,
             "#7201a8"
            ],
            [
             0.3333333333333333,
             "#9c179e"
            ],
            [
             0.4444444444444444,
             "#bd3786"
            ],
            [
             0.5555555555555556,
             "#d8576b"
            ],
            [
             0.6666666666666666,
             "#ed7953"
            ],
            [
             0.7777777777777778,
             "#fb9f3a"
            ],
            [
             0.8888888888888888,
             "#fdca26"
            ],
            [
             1,
             "#f0f921"
            ]
           ],
           "sequentialminus": [
            [
             0,
             "#0d0887"
            ],
            [
             0.1111111111111111,
             "#46039f"
            ],
            [
             0.2222222222222222,
             "#7201a8"
            ],
            [
             0.3333333333333333,
             "#9c179e"
            ],
            [
             0.4444444444444444,
             "#bd3786"
            ],
            [
             0.5555555555555556,
             "#d8576b"
            ],
            [
             0.6666666666666666,
             "#ed7953"
            ],
            [
             0.7777777777777778,
             "#fb9f3a"
            ],
            [
             0.8888888888888888,
             "#fdca26"
            ],
            [
             1,
             "#f0f921"
            ]
           ]
          },
          "colorway": [
           "#636efa",
           "#EF553B",
           "#00cc96",
           "#ab63fa",
           "#FFA15A",
           "#19d3f3",
           "#FF6692",
           "#B6E880",
           "#FF97FF",
           "#FECB52"
          ],
          "font": {
           "color": "#2a3f5f"
          },
          "geo": {
           "bgcolor": "white",
           "lakecolor": "white",
           "landcolor": "#E5ECF6",
           "showlakes": true,
           "showland": true,
           "subunitcolor": "white"
          },
          "hoverlabel": {
           "align": "left"
          },
          "hovermode": "closest",
          "mapbox": {
           "style": "light"
          },
          "paper_bgcolor": "white",
          "plot_bgcolor": "#E5ECF6",
          "polar": {
           "angularaxis": {
            "gridcolor": "white",
            "linecolor": "white",
            "ticks": ""
           },
           "bgcolor": "#E5ECF6",
           "radialaxis": {
            "gridcolor": "white",
            "linecolor": "white",
            "ticks": ""
           }
          },
          "scene": {
           "xaxis": {
            "backgroundcolor": "#E5ECF6",
            "gridcolor": "white",
            "gridwidth": 2,
            "linecolor": "white",
            "showbackground": true,
            "ticks": "",
            "zerolinecolor": "white"
           },
           "yaxis": {
            "backgroundcolor": "#E5ECF6",
            "gridcolor": "white",
            "gridwidth": 2,
            "linecolor": "white",
            "showbackground": true,
            "ticks": "",
            "zerolinecolor": "white"
           },
           "zaxis": {
            "backgroundcolor": "#E5ECF6",
            "gridcolor": "white",
            "gridwidth": 2,
            "linecolor": "white",
            "showbackground": true,
            "ticks": "",
            "zerolinecolor": "white"
           }
          },
          "shapedefaults": {
           "line": {
            "color": "#2a3f5f"
           }
          },
          "ternary": {
           "aaxis": {
            "gridcolor": "white",
            "linecolor": "white",
            "ticks": ""
           },
           "baxis": {
            "gridcolor": "white",
            "linecolor": "white",
            "ticks": ""
           },
           "bgcolor": "#E5ECF6",
           "caxis": {
            "gridcolor": "white",
            "linecolor": "white",
            "ticks": ""
           }
          },
          "title": {
           "x": 0.05
          },
          "xaxis": {
           "automargin": true,
           "gridcolor": "white",
           "linecolor": "white",
           "ticks": "",
           "title": {
            "standoff": 15
           },
           "zerolinecolor": "white",
           "zerolinewidth": 2
          },
          "yaxis": {
           "automargin": true,
           "gridcolor": "white",
           "linecolor": "white",
           "ticks": "",
           "title": {
            "standoff": 15
           },
           "zerolinecolor": "white",
           "zerolinewidth": 2
          }
         }
        },
        "title": {
         "text": "Time Series of total visitors by venue"
        },
        "xaxis": {
         "anchor": "y",
         "domain": [
          0,
          1
         ],
         "title": {
          "text": "Date"
         }
        },
        "yaxis": {
         "anchor": "x",
         "domain": [
          0,
          1
         ],
         "title": {
          "text": "Total visitors"
         }
        }
       }
      }
     },
     "metadata": {},
     "output_type": "display_data"
    }
   ],
   "source": [
    "# Plot the time series graph\n",
    "fig = px.line(\n",
    "    forecasting_df,\n",
    "    x='date',\n",
    "    y='visitor_count_total',\n",
    "    color='venue_id',\n",
    "    title=\"Time Series of total visitors by venue\",\n",
    "    labels={'visitor_count_total': 'Total visitors', 'date': 'Date'}\n",
    ")\n",
    "\n",
    "fig.show()"
   ]
  },
  {
   "cell_type": "markdown",
   "metadata": {},
   "source": [
    "### ACF and PACF\n",
    "- As all the venues under same category have similar pattern we take the mean visitor count to check ACF anf PACF for each category "
   ]
  },
  {
   "cell_type": "code",
   "execution_count": 22,
   "metadata": {},
   "outputs": [],
   "source": [
    "category_data = (\n",
    "    forecasting_df.groupby([\"category\", \"date\"])[\"visitor_count_total\"]\n",
    "    .mean()\n",
    "    .reset_index()\n",
    ")\n",
    "category_data['visitor_count_total'] = category_data['visitor_count_total'].apply(lambda x: math.ceil(x))"
   ]
  },
  {
   "cell_type": "code",
   "execution_count": 23,
   "metadata": {},
   "outputs": [
    {
     "name": "stdout",
     "output_type": "stream",
     "text": [
      "Category: cinema\n"
     ]
    },
    {
     "data": {
      "image/png": "[encoded data removed]",
      "text/plain": [
       "<Figure size 1200x600 with 2 Axes>"
      ]
     },
     "metadata": {},
     "output_type": "display_data"
    },
    {
     "name": "stdout",
     "output_type": "stream",
     "text": [
      "Category: coffee place\n"
     ]
    },
    {
     "data": {
      "image/png": "[encoded data removed]",
      "text/plain": [
       "<Figure size 1200x600 with 2 Axes>"
      ]
     },
     "metadata": {},
     "output_type": "display_data"
    },
    {
     "name": "stdout",
     "output_type": "stream",
     "text": [
      "Category: university\n"
     ]
    },
    {
     "data": {
      "image/png": "[encoded data removed]",
      "text/plain": [
       "<Figure size 1200x600 with 2 Axes>"
      ]
     },
     "metadata": {},
     "output_type": "display_data"
    }
   ],
   "source": [
    "def plot_acf_pacf_for_category(data, category):\n",
    "    category_data = data[data[\"category\"] == category].set_index(\"date\")[\"visitor_count_total\"]\n",
    "    \n",
    "    # Plot ACF and PACF\n",
    "    fig, axes = plt.subplots(1, 2, figsize=(12, 6))\n",
    "    \n",
    "    plot_acf(category_data, ax=axes[0], lags=30, title=f\"ACF for {category}\")\n",
    "    plot_pacf(category_data, ax=axes[1], lags=30, title=f\"PACF for {category}\")\n",
    "    \n",
    "    plt.tight_layout()\n",
    "    plt.show()\n",
    "\n",
    "# Loop through each category and plot\n",
    "for category in forecasting_df[\"category\"].unique():\n",
    "    print(f\"Category: {category}\")\n",
    "    plot_acf_pacf_for_category(forecasting_df, category)\n"
   ]
  },
  {
   "cell_type": "code",
   "execution_count": null,
   "metadata": {},
   "outputs": [],
   "source": []
  },
  {
   "cell_type": "code",
   "execution_count": null,
   "metadata": {},
   "outputs": [],
   "source": []
  }
 ],
 "metadata": {
  "kernelspec": {
   "display_name": "Python 3",
   "language": "python",
   "name": "python3"
  },
  "language_info": {
   "codemirror_mode": {
    "name": "ipython",
    "version": 3
   },
   "file_extension": ".py",
   "mimetype": "text/x-python",
   "name": "python",
   "nbconvert_exporter": "python",
   "pygments_lexer": "ipython3",
   "version": "3.10.0"
  }
 },
 "nbformat": 4,
 "nbformat_minor": 2
}
